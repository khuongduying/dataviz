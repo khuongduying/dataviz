{
  "nbformat": 4,
  "nbformat_minor": 0,
  "metadata": {
    "colab": {
      "provenance": [],
      "authorship_tag": "ABX9TyMPHsvYdhNmUNYRCN56Ei+D",
      "include_colab_link": true
    },
    "kernelspec": {
      "name": "ir",
      "display_name": "R"
    },
    "language_info": {
      "name": "R"
    }
  },
  "cells": [
    {
      "cell_type": "markdown",
      "metadata": {
        "id": "view-in-github",
        "colab_type": "text"
      },
      "source": [
        "<a href=\"https://colab.research.google.com/github/khuongduying/dataviz/blob/main/DataViz_3.ipynb\" target=\"_parent\"><img src=\"https://colab.research.google.com/assets/colab-badge.svg\" alt=\"Open In Colab\"/></a>"
      ]
    },
    {
      "cell_type": "markdown",
      "source": [
        "# Exploratory data analysis (EDA)"
      ],
      "metadata": {
        "id": "O1483Cef5qUY"
      }
    },
    {
      "cell_type": "markdown",
      "source": [
        "EDA is an iterative cycle:\n",
        "1. Generate questions about your data.\n",
        "2. Search for answers by visualizing, transforming, and modelling your data.\n",
        "3. Use what you learn to refine your questions and/or generate new questions."
      ],
      "metadata": {
        "id": "P-N6G0NG51yG"
      }
    },
    {
      "cell_type": "markdown",
      "source": [
        "### Prerequisites"
      ],
      "metadata": {
        "id": "i2eQZTCq6dBj"
      }
    },
    {
      "cell_type": "code",
      "source": [
        "library(tidyverse)"
      ],
      "metadata": {
        "colab": {
          "base_uri": "https://localhost:8080/"
        },
        "id": "4fig2W6Z7zek",
        "outputId": "4702b2dc-e2c7-41d0-a1f8-0307e6fd506a"
      },
      "execution_count": null,
      "outputs": [
        {
          "output_type": "stream",
          "name": "stderr",
          "text": [
            "── \u001b[1mAttaching core tidyverse packages\u001b[22m ──────────────────────── tidyverse 2.0.0 ──\n",
            "\u001b[32m✔\u001b[39m \u001b[34mdplyr    \u001b[39m 1.1.4     \u001b[32m✔\u001b[39m \u001b[34mreadr    \u001b[39m 2.1.5\n",
            "\u001b[32m✔\u001b[39m \u001b[34mforcats  \u001b[39m 1.0.0     \u001b[32m✔\u001b[39m \u001b[34mstringr  \u001b[39m 1.5.1\n",
            "\u001b[32m✔\u001b[39m \u001b[34mggplot2  \u001b[39m 3.4.4     \u001b[32m✔\u001b[39m \u001b[34mtibble   \u001b[39m 3.2.1\n",
            "\u001b[32m✔\u001b[39m \u001b[34mlubridate\u001b[39m 1.9.3     \u001b[32m✔\u001b[39m \u001b[34mtidyr    \u001b[39m 1.3.0\n",
            "\u001b[32m✔\u001b[39m \u001b[34mpurrr    \u001b[39m 1.0.2     \n",
            "── \u001b[1mConflicts\u001b[22m ────────────────────────────────────────── tidyverse_conflicts() ──\n",
            "\u001b[31m✖\u001b[39m \u001b[34mdplyr\u001b[39m::\u001b[32mfilter()\u001b[39m masks \u001b[34mstats\u001b[39m::filter()\n",
            "\u001b[31m✖\u001b[39m \u001b[34mdplyr\u001b[39m::\u001b[32mlag()\u001b[39m    masks \u001b[34mstats\u001b[39m::lag()\n",
            "\u001b[36mℹ\u001b[39m Use the conflicted package (\u001b[3m\u001b[34m<http://conflicted.r-lib.org/>\u001b[39m\u001b[23m) to force all conflicts to become errors\n"
          ]
        }
      ]
    },
    {
      "cell_type": "markdown",
      "source": [
        "## Questions"
      ],
      "metadata": {
        "id": "hi7f2cB771UL"
      }
    },
    {
      "cell_type": "markdown",
      "source": [
        "Ex:\n",
        "1. What type of variation occurs within my variables?\n",
        "2. What type of covariation occurs between my variables?"
      ],
      "metadata": {
        "id": "Qu8JpLx0744J"
      }
    },
    {
      "cell_type": "markdown",
      "source": [
        "## Variation"
      ],
      "metadata": {
        "id": "UBXhg8up957_"
      }
    },
    {
      "cell_type": "markdown",
      "source": [
        "Each of your measurements will include a small amount of error that varies from measurement to measurement."
      ],
      "metadata": {
        "id": "7JWnxZtl97zi"
      }
    },
    {
      "cell_type": "code",
      "source": [
        "ggplot(diamonds, aes(x=carat))+\n",
        "  geom_histogram(binwidth=0.5)"
      ],
      "metadata": {
        "colab": {
          "base_uri": "https://localhost:8080/",
          "height": 437
        },
        "id": "NnWQAKU0HRt1",
        "outputId": "565e8825-666a-4c3d-fbe5-1a1e90e47bc7"
      },
      "execution_count": null,
      "outputs": [
        {
          "output_type": "display_data",
          "data": {
            "text/plain": [
              "plot without title"
            ],
            "image/png": "[encoded data removed]"
          },
          "metadata": {
            "image/png": {
              "width": 420,
              "height": 420
            }
          }
        }
      ]
    },
    {
      "cell_type": "markdown",
      "source": [
        "What should you look for in your plots?"
      ],
      "metadata": {
        "id": "QIGxUt2gHQ8U"
      }
    },
    {
      "cell_type": "markdown",
      "source": [
        "The key to asking good follow-up questions will be to rely on your curiosity (What do you want to learn more about?) as well as your skeptism (How could this be misleading?)."
      ],
      "metadata": {
        "id": "qA-hocKIHoWB"
      }
    },
    {
      "cell_type": "markdown",
      "source": [
        "### Typical values"
      ],
      "metadata": {
        "id": "QBcuNWxfIJ92"
      }
    },
    {
      "cell_type": "markdown",
      "source": [
        "Places that do not have bars reveal values that were not seen in your data. To turn this information into useful question, look for nay unexpected:\n",
        "- Which values are the most common? Why?\n",
        "- Which values are rare? Why? Does that match your expectations?\n",
        "- Can you see any unusual patterns? What might explain them?"
      ],
      "metadata": {
        "id": "pVWlKefBIP1V"
      }
    },
    {
      "cell_type": "code",
      "source": [
        "# Subset data\n",
        "smaller <- diamonds |>\n",
        "  filter(carat < 3)"
      ],
      "metadata": {
        "id": "GX0iOLCnIq3c"
      },
      "execution_count": null,
      "outputs": []
    },
    {
      "cell_type": "code",
      "source": [
        "head(smaller)"
      ],
      "metadata": {
        "colab": {
          "base_uri": "https://localhost:8080/",
          "height": 286
        },
        "id": "1yvmeoL3I1jn",
        "outputId": "5ec60ccf-fe1b-4fc0-f953-40bfe90e8179"
      },
      "execution_count": null,
      "outputs": [
        {
          "output_type": "display_data",
          "data": {
            "text/html": [
              "<table class=\"dataframe\">\n",
              "<caption>A tibble: 6 × 10</caption>\n",
              "<thead>\n",
              "\t<tr><th scope=col>carat</th><th scope=col>cut</th><th scope=col>color</th><th scope=col>clarity</th><th scope=col>depth</th><th scope=col>table</th><th scope=col>price</th><th scope=col>x</th><th scope=col>y</th><th scope=col>z</th></tr>\n",
              "\t<tr><th scope=col>&lt;dbl&gt;</th><th scope=col>&lt;ord&gt;</th><th scope=col>&lt;ord&gt;</th><th scope=col>&lt;ord&gt;</th><th scope=col>&lt;dbl&gt;</th><th scope=col>&lt;dbl&gt;</th><th scope=col>&lt;int&gt;</th><th scope=col>&lt;dbl&gt;</th><th scope=col>&lt;dbl&gt;</th><th scope=col>&lt;dbl&gt;</th></tr>\n",
              "</thead>\n",
              "<tbody>\n",
              "\t<tr><td>0.23</td><td>Ideal    </td><td>E</td><td>SI2 </td><td>61.5</td><td>55</td><td>326</td><td>3.95</td><td>3.98</td><td>2.43</td></tr>\n",
              "\t<tr><td>0.21</td><td>Premium  </td><td>E</td><td>SI1 </td><td>59.8</td><td>61</td><td>326</td><td>3.89</td><td>3.84</td><td>2.31</td></tr>\n",
              "\t<tr><td>0.23</td><td>Good     </td><td>E</td><td>VS1 </td><td>56.9</td><td>65</td><td>327</td><td>4.05</td><td>4.07</td><td>2.31</td></tr>\n",
              "\t<tr><td>0.29</td><td>Premium  </td><td>I</td><td>VS2 </td><td>62.4</td><td>58</td><td>334</td><td>4.20</td><td>4.23</td><td>2.63</td></tr>\n",
              "\t<tr><td>0.31</td><td>Good     </td><td>J</td><td>SI2 </td><td>63.3</td><td>58</td><td>335</td><td>4.34</td><td>4.35</td><td>2.75</td></tr>\n",
              "\t<tr><td>0.24</td><td>Very Good</td><td>J</td><td>VVS2</td><td>62.8</td><td>57</td><td>336</td><td>3.94</td><td>3.96</td><td>2.48</td></tr>\n",
              "</tbody>\n",
              "</table>\n"
            ],
            "text/markdown": "\nA tibble: 6 × 10\n\n| carat &lt;dbl&gt; | cut &lt;ord&gt; | color &lt;ord&gt; | clarity &lt;ord&gt; | depth &lt;dbl&gt; | table &lt;dbl&gt; | price &lt;int&gt; | x &lt;dbl&gt; | y &lt;dbl&gt; | z &lt;dbl&gt; |\n|---|---|---|---|---|---|---|---|---|---|\n| 0.23 | Ideal     | E | SI2  | 61.5 | 55 | 326 | 3.95 | 3.98 | 2.43 |\n| 0.21 | Premium   | E | SI1  | 59.8 | 61 | 326 | 3.89 | 3.84 | 2.31 |\n| 0.23 | Good      | E | VS1  | 56.9 | 65 | 327 | 4.05 | 4.07 | 2.31 |\n| 0.29 | Premium   | I | VS2  | 62.4 | 58 | 334 | 4.20 | 4.23 | 2.63 |\n| 0.31 | Good      | J | SI2  | 63.3 | 58 | 335 | 4.34 | 4.35 | 2.75 |\n| 0.24 | Very Good | J | VVS2 | 62.8 | 57 | 336 | 3.94 | 3.96 | 2.48 |\n\n",
            "text/latex": "A tibble: 6 × 10\n\\begin{tabular}{llllllllll}\n carat & cut & color & clarity & depth & table & price & x & y & z\\\\\n <dbl> & <ord> & <ord> & <ord> & <dbl> & <dbl> & <int> & <dbl> & <dbl> & <dbl>\\\\\n\\hline\n\t 0.23 & Ideal     & E & SI2  & 61.5 & 55 & 326 & 3.95 & 3.98 & 2.43\\\\\n\t 0.21 & Premium   & E & SI1  & 59.8 & 61 & 326 & 3.89 & 3.84 & 2.31\\\\\n\t 0.23 & Good      & E & VS1  & 56.9 & 65 & 327 & 4.05 & 4.07 & 2.31\\\\\n\t 0.29 & Premium   & I & VS2  & 62.4 & 58 & 334 & 4.20 & 4.23 & 2.63\\\\\n\t 0.31 & Good      & J & SI2  & 63.3 & 58 & 335 & 4.34 & 4.35 & 2.75\\\\\n\t 0.24 & Very Good & J & VVS2 & 62.8 & 57 & 336 & 3.94 & 3.96 & 2.48\\\\\n\\end{tabular}\n",
            "text/plain": [
              "  carat cut       color clarity depth table price x    y    z   \n",
              "1 0.23  Ideal     E     SI2     61.5  55    326   3.95 3.98 2.43\n",
              "2 0.21  Premium   E     SI1     59.8  61    326   3.89 3.84 2.31\n",
              "3 0.23  Good      E     VS1     56.9  65    327   4.05 4.07 2.31\n",
              "4 0.29  Premium   I     VS2     62.4  58    334   4.20 4.23 2.63\n",
              "5 0.31  Good      J     SI2     63.3  58    335   4.34 4.35 2.75\n",
              "6 0.24  Very Good J     VVS2    62.8  57    336   3.94 3.96 2.48"
            ]
          },
          "metadata": {}
        }
      ]
    },
    {
      "cell_type": "code",
      "source": [
        "ggplot(smaller, aes(x=carat)) +\n",
        "  geom_histogram(binwidth=0.01)"
      ],
      "metadata": {
        "colab": {
          "base_uri": "https://localhost:8080/",
          "height": 437
        },
        "id": "rcC2j0MaI_dd",
        "outputId": "0e4270f6-ca4f-4227-8cee-d5f9b0c525fe"
      },
      "execution_count": null,
      "outputs": [
        {
          "output_type": "display_data",
          "data": {
            "text/plain": [
              "plot without title"
            ],
            "image/png": "[encoded data removed]"
          },
          "metadata": {
            "image/png": {
              "width": 420,
              "height": 420
            }
          }
        }
      ]
    },
    {
      "cell_type": "markdown",
      "source": [
        "This histogram suggests several intersting questions:\n",
        "- Why are there more diamonds at whole carats and common fraction of carats?\n",
        "- Why are there more diamonds slightly to the right of each peak than there are slightly to the left of each peak?"
      ],
      "metadata": {
        "id": "bibhMTmeJ4Hg"
      }
    },
    {
      "cell_type": "markdown",
      "source": [
        "Visualizations can also reveal clusters, which suggest that subgroups exist in your data. To understand the subgroups, ask:\n",
        "- How are the observations within each subgroup similar to each other?\n",
        "- How are the observations in separate clusters different from each other?\n",
        "- How can you explain or describe the clusters?\n",
        "- Why might the appearance of clusters be misleading?"
      ],
      "metadata": {
        "id": "LldT9D4jKUVk"
      }
    },
    {
      "cell_type": "markdown",
      "source": [
        ">Some of these questions can be answered with the data while some will require domain expertise about the data.\n",
        "\n",
        "Many of them will prompt you to explore a relationship between variables."
      ],
      "metadata": {
        "id": "RciYfuEYK0vs"
      }
    },
    {
      "cell_type": "markdown",
      "source": [
        "### Unusual values"
      ],
      "metadata": {
        "id": "G7uSKVL-LNvC"
      }
    },
    {
      "cell_type": "markdown",
      "source": [
        "Outliers are observations that are unusual; data points that don't seem to fit the pattern."
      ],
      "metadata": {
        "id": "WvB8_YvBLTEB"
      }
    },
    {
      "cell_type": "markdown",
      "source": [
        "Sometimes outliers are data entry errors, sometimes theyare simply values at the extremes that happened to be observed in this data collection, and other times they suggest important new discoveries."
      ],
      "metadata": {
        "id": "1XIU8qVjL3wa"
      }
    },
    {
      "cell_type": "code",
      "source": [
        "ggplot(diamonds, aes(x = y)) +\n",
        "  geom_histogram(binwidth = 0.5)"
      ],
      "metadata": {
        "colab": {
          "base_uri": "https://localhost:8080/",
          "height": 437
        },
        "id": "uHoVVLQoMJUz",
        "outputId": "bd9b07f2-bb0d-4775-d617-954db01f5069"
      },
      "execution_count": null,
      "outputs": [
        {
          "output_type": "display_data",
          "data": {
            "text/plain": [
              "plot without title"
            ],
            "image/png": "[encoded data removed]"
          },
          "metadata": {
            "image/png": {
              "width": 420,
              "height": 420
            }
          }
        }
      ]
    },
    {
      "cell_type": "code",
      "source": [
        "ggplot(diamonds, aes(x=y)) +\n",
        "  geom_histogram(binwidth=0.5)+\n",
        "  coord_cartesian(ylim=c(0,50))"
      ],
      "metadata": {
        "colab": {
          "base_uri": "https://localhost:8080/",
          "height": 437
        },
        "id": "jEznu-jUMYfc",
        "outputId": "a8db310a-bf10-4458-c312-66b1d10fc832"
      },
      "execution_count": null,
      "outputs": [
        {
          "output_type": "display_data",
          "data": {
            "text/plain": [
              "plot without title"
            ],
            "image/png": "[encoded data removed]"
          },
          "metadata": {
            "image/png": {
              "width": 420,
              "height": 420
            }
          }
        }
      ]
    },
    {
      "cell_type": "markdown",
      "source": [
        "This allows us to see that there are three unusual values: 0, ~30, and ~60. We pluck them out with dplyr:"
      ],
      "metadata": {
        "id": "9Ngj1lX6N9gg"
      }
    },
    {
      "cell_type": "code",
      "source": [
        "unusual <- diamonds |>\n",
        "  filter(y < 3 | y > 20) |>\n",
        "  select(price, x, y, z) |>\n",
        "  arrange(y)"
      ],
      "metadata": {
        "id": "uE1S_gCpOUyZ"
      },
      "execution_count": null,
      "outputs": []
    },
    {
      "cell_type": "code",
      "source": [
        "unusual"
      ],
      "metadata": {
        "colab": {
          "base_uri": "https://localhost:8080/",
          "height": 380
        },
        "id": "1U_lgRt7OmyN",
        "outputId": "7f0bafd6-6025-4536-f0a4-3b62a9ed3869"
      },
      "execution_count": null,
      "outputs": [
        {
          "output_type": "display_data",
          "data": {
            "text/html": [
              "<table class=\"dataframe\">\n",
              "<caption>A tibble: 9 × 4</caption>\n",
              "<thead>\n",
              "\t<tr><th scope=col>price</th><th scope=col>x</th><th scope=col>y</th><th scope=col>z</th></tr>\n",
              "\t<tr><th scope=col>&lt;int&gt;</th><th scope=col>&lt;dbl&gt;</th><th scope=col>&lt;dbl&gt;</th><th scope=col>&lt;dbl&gt;</th></tr>\n",
              "</thead>\n",
              "<tbody>\n",
              "\t<tr><td> 5139</td><td>0.00</td><td> 0.0</td><td>0.00</td></tr>\n",
              "\t<tr><td> 6381</td><td>0.00</td><td> 0.0</td><td>0.00</td></tr>\n",
              "\t<tr><td>12800</td><td>0.00</td><td> 0.0</td><td>0.00</td></tr>\n",
              "\t<tr><td>15686</td><td>0.00</td><td> 0.0</td><td>0.00</td></tr>\n",
              "\t<tr><td>18034</td><td>0.00</td><td> 0.0</td><td>0.00</td></tr>\n",
              "\t<tr><td> 2130</td><td>0.00</td><td> 0.0</td><td>0.00</td></tr>\n",
              "\t<tr><td> 2130</td><td>0.00</td><td> 0.0</td><td>0.00</td></tr>\n",
              "\t<tr><td> 2075</td><td>5.15</td><td>31.8</td><td>5.12</td></tr>\n",
              "\t<tr><td>12210</td><td>8.09</td><td>58.9</td><td>8.06</td></tr>\n",
              "</tbody>\n",
              "</table>\n"
            ],
            "text/markdown": "\nA tibble: 9 × 4\n\n| price &lt;int&gt; | x &lt;dbl&gt; | y &lt;dbl&gt; | z &lt;dbl&gt; |\n|---|---|---|---|\n|  5139 | 0.00 |  0.0 | 0.00 |\n|  6381 | 0.00 |  0.0 | 0.00 |\n| 12800 | 0.00 |  0.0 | 0.00 |\n| 15686 | 0.00 |  0.0 | 0.00 |\n| 18034 | 0.00 |  0.0 | 0.00 |\n|  2130 | 0.00 |  0.0 | 0.00 |\n|  2130 | 0.00 |  0.0 | 0.00 |\n|  2075 | 5.15 | 31.8 | 5.12 |\n| 12210 | 8.09 | 58.9 | 8.06 |\n\n",
            "text/latex": "A tibble: 9 × 4\n\\begin{tabular}{llll}\n price & x & y & z\\\\\n <int> & <dbl> & <dbl> & <dbl>\\\\\n\\hline\n\t  5139 & 0.00 &  0.0 & 0.00\\\\\n\t  6381 & 0.00 &  0.0 & 0.00\\\\\n\t 12800 & 0.00 &  0.0 & 0.00\\\\\n\t 15686 & 0.00 &  0.0 & 0.00\\\\\n\t 18034 & 0.00 &  0.0 & 0.00\\\\\n\t  2130 & 0.00 &  0.0 & 0.00\\\\\n\t  2130 & 0.00 &  0.0 & 0.00\\\\\n\t  2075 & 5.15 & 31.8 & 5.12\\\\\n\t 12210 & 8.09 & 58.9 & 8.06\\\\\n\\end{tabular}\n",
            "text/plain": [
              "  price x    y    z   \n",
              "1  5139 0.00  0.0 0.00\n",
              "2  6381 0.00  0.0 0.00\n",
              "3 12800 0.00  0.0 0.00\n",
              "4 15686 0.00  0.0 0.00\n",
              "5 18034 0.00  0.0 0.00\n",
              "6  2130 0.00  0.0 0.00\n",
              "7  2130 0.00  0.0 0.00\n",
              "8  2075 5.15 31.8 5.12\n",
              "9 12210 8.09 58.9 8.06"
            ]
          },
          "metadata": {}
        }
      ]
    },
    {
      "cell_type": "markdown",
      "source": [
        "We know that diamonds can’t have a width of 0mm, so these values must be incorrect."
      ],
      "metadata": {
        "id": "Wu5t1aDlOpRV"
      }
    },
    {
      "cell_type": "markdown",
      "source": [
        "By doing EDA, we have discovered missing data that was coded as 0, which we never would have found by simply searching for NAs."
      ],
      "metadata": {
        "id": "bbqzSiT_PC1s"
      }
    },
    {
      "cell_type": "markdown",
      "source": [
        ">Going forward we might choose to re-code these values as `NA`s in order to prevent misleading calculations."
      ],
      "metadata": {
        "id": "LL_j_lDEPHVl"
      }
    },
    {
      "cell_type": "markdown",
      "source": [
        "We mightalso suspect that measurements of 32mm and 59mm are implausible: those diamonds are over an inch long, but don't cost hundreds of thousands of dollars!"
      ],
      "metadata": {
        "id": "VuKSGgXcPaBN"
      }
    },
    {
      "cell_type": "markdown",
      "source": [
        ">It's good practice to repeat your analysis with and without the outliers.\n",
        "- If they have minimal effect on the results, and you can't figure out why they're there, it's reasonable to omit them, and move on.\n",
        "- If they have a substantial effect on your results, you shouldn't drop them without justification. You'll need to figure out what caused them (e.g. data entry error) and disclose that you removed them in your write-up."
      ],
      "metadata": {
        "id": "ZPzmIKu5PlPn"
      }
    },
    {
      "cell_type": "markdown",
      "source": [
        "### Exercises"
      ],
      "metadata": {
        "id": "0A0lffnvQLMN"
      }
    },
    {
      "cell_type": "markdown",
      "source": [
        "1. Explore the distribution of each of the x, y, and z variables in diamonds. What do you learn?"
      ],
      "metadata": {
        "id": "UN5xmRI-QOr5"
      }
    },
    {
      "cell_type": "code",
      "source": [
        "ggplot(\n",
        "  diamonds,\n",
        "  aes(x=x)\n",
        ")+\n",
        "  geom_histogram(binwidth=0.1)"
      ],
      "metadata": {
        "colab": {
          "base_uri": "https://localhost:8080/",
          "height": 437
        },
        "id": "8jn8kQqZP36O",
        "outputId": "86fbb19b-97a7-4a8b-c7a6-7631de46600d"
      },
      "execution_count": null,
      "outputs": [
        {
          "output_type": "display_data",
          "data": {
            "text/plain": [
              "plot without title"
            ],
            "image/png": "[encoded data removed]"
          },
          "metadata": {
            "image/png": {
              "width": 420,
              "height": 420
            }
          }
        }
      ]
    },
    {
      "cell_type": "markdown",
      "source": [
        "2. Explore the distribution of price."
      ],
      "metadata": {
        "id": "bGQ63GryRi2T"
      }
    },
    {
      "cell_type": "code",
      "source": [
        "ggplot(\n",
        "  diamonds,\n",
        "  aes(x=price)\n",
        ")+\n",
        "  geom_histogram(binwidth=100)+\n",
        "  coord_cartesian(xlim=c(0,1000))"
      ],
      "metadata": {
        "colab": {
          "base_uri": "https://localhost:8080/",
          "height": 437
        },
        "id": "wFZZ3R1aRmPW",
        "outputId": "698c4107-1379-4a11-ec1b-57ee736a3f0a"
      },
      "execution_count": null,
      "outputs": [
        {
          "output_type": "display_data",
          "data": {
            "text/plain": [
              "plot without title"
            ],
            "image/png": "[encoded data removed]"
          },
          "metadata": {
            "image/png": {
              "width": 420,
              "height": 420
            }
          }
        }
      ]
    },
    {
      "cell_type": "markdown",
      "source": [
        "3. How many diamonds are 0.99 carat? How many are 1 carat? What do you think is the cause of the difference"
      ],
      "metadata": {
        "id": "4E2dtGImSg-K"
      }
    },
    {
      "cell_type": "code",
      "source": [],
      "metadata": {
        "id": "zyT9g1BVSpRx"
      },
      "execution_count": null,
      "outputs": []
    }
  ]
}